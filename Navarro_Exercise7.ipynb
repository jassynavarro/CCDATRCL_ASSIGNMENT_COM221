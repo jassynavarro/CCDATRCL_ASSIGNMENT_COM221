{
  "cells": [
    {
      "cell_type": "markdown",
      "metadata": {
        "id": "view-in-github",
        "colab_type": "text"
      },
      "source": [
        "<a href=\"https://colab.research.google.com/github/jassynavarro/CCDATRCL_ASSIGNMENT_COM221/blob/main/Navarro_Exercise7.ipynb\" target=\"_parent\"><img src=\"https://colab.research.google.com/assets/colab-badge.svg\" alt=\"Open In Colab\"/></a>"
      ]
    },
    {
      "cell_type": "markdown",
      "metadata": {
        "id": "e3Ja3uozAJlw"
      },
      "source": [
        "# Exercise 7"
      ]
    },
    {
      "cell_type": "code",
      "execution_count": 37,
      "metadata": {
        "id": "IW6uTwU8AJly"
      },
      "outputs": [],
      "source": [
        "class Node:\n",
        "    def __init__(self, item):\n",
        "        self.left = None\n",
        "        self.right = None\n",
        "        self.val = item"
      ]
    },
    {
      "cell_type": "code",
      "execution_count": 38,
      "metadata": {
        "id": "uxVFuimIAJlz"
      },
      "outputs": [],
      "source": [
        "def evaluateExpressionTree(root):\n",
        "\n",
        "    # empty tree\n",
        "    if root is None:\n",
        "        return 0\n",
        "\n",
        "    # leaf node\n",
        "    if root.left is None and root.right is None:\n",
        "        return int(root.val)\n",
        "\n",
        "    # evaluate left tree\n",
        "    left_sum = evaluateExpressionTree(root.left)\n",
        "\n",
        "    # evaluate right tree\n",
        "    right_sum = evaluateExpressionTree(root.right)\n",
        "\n",
        "    # check which operation to apply\n",
        "    if root.val == '+':\n",
        "        return left_sum + right_sum\n",
        "\n",
        "    elif root.val == '-':\n",
        "        return left_sum - right_sum\n",
        "\n",
        "    elif root.val == '*':\n",
        "        return left_sum * right_sum\n",
        "\n",
        "    else:\n",
        "        return left_sum / right_sum"
      ]
    },
    {
      "cell_type": "code",
      "execution_count": 39,
      "metadata": {
        "id": "-xWZXA-mAJl0"
      },
      "outputs": [],
      "source": [
        "def inorder(root):\n",
        "\n",
        "    if root:\n",
        "        # Traverse left\n",
        "        inorder(root.left)\n",
        "        # Traverse root\n",
        "        print(str(root.val) + \"->\", end='')\n",
        "        # Traverse right\n",
        "        inorder(root.right)"
      ]
    },
    {
      "cell_type": "markdown",
      "metadata": {
        "id": "CVtqxh5DAJl1"
      },
      "source": [
        "#### 1. Construct a binary expression tree\n",
        "\n",
        "\n",
        "- Use the evaluateExpressionTree method to get the result of the expression\n",
        "- Use the inorder method to traverse the tree  \n",
        "\n",
        "$$ (8 + 4) * (7 - 9) $$"
      ]
    },
    {
      "cell_type": "code",
      "execution_count": 40,
      "metadata": {
        "id": "CxpP0zcVAJl1",
        "outputId": "fec1b441-a469-446a-ac32-cdb38666f8b7",
        "colab": {
          "base_uri": "https://localhost:8080/"
        }
      },
      "outputs": [
        {
          "output_type": "stream",
          "name": "stdout",
          "text": [
            "-24\n",
            "8->+->4->*->7->-->9->None\n"
          ]
        }
      ],
      "source": [
        "# put your answer here\n",
        "\n",
        "root = Node(\"*\")\n",
        "node1 = Node(\"8\")\n",
        "node2 = Node(\"+\")\n",
        "node3 = Node(\"4\")\n",
        "node4 = Node(\"7\")\n",
        "node5 = Node(\"-\")\n",
        "node6 = Node(\"9\")\n",
        "\n",
        "root.left = node2\n",
        "root.right = node5\n",
        "node2.left = node1\n",
        "node2.right = node3\n",
        "node5.left = node4\n",
        "node5.right = node6\n",
        "\n",
        "print(evaluateExpressionTree(root))\n",
        "print(inorder(root))"
      ]
    },
    {
      "cell_type": "markdown",
      "metadata": {
        "id": "jc5KHLk6AJl2"
      },
      "source": [
        "#### 2. Construct a binary expression tree\n",
        "\n",
        "- Use the evaluateExpressionTree method to get the result of the expression\n",
        "- Use the inorder method to traverse the tree  \n",
        "\n",
        "$$ 5 / 8 + 3 - 6 * 1 $$"
      ]
    },
    {
      "cell_type": "code",
      "execution_count": 41,
      "metadata": {
        "id": "XORzqkC3AJl2",
        "outputId": "7b204e7d-6980-403a-8629-82bdd961abdb",
        "colab": {
          "base_uri": "https://localhost:8080/"
        }
      },
      "outputs": [
        {
          "output_type": "stream",
          "name": "stdout",
          "text": [
            "-2.375\n",
            "5->/->8->+->3->-->6->*->1->None\n"
          ]
        }
      ],
      "source": [
        "# put your answer here\n",
        "\n",
        "root = Node(\"-\")\n",
        "node1 = Node(\"5\")\n",
        "node2 = Node(\"/\")\n",
        "node3 = Node(\"8\")\n",
        "node4 = Node(\"+\")\n",
        "node5 = Node(\"3\")\n",
        "node6 = Node(\"6\")\n",
        "node7 = Node(\"*\")\n",
        "node8 = Node(\"1\")\n",
        "\n",
        "root.left = node4\n",
        "root.right = node7\n",
        "node4.left = node2\n",
        "node4.right = node5\n",
        "node2.left = node1\n",
        "node2.right = node3\n",
        "node7.left = node6\n",
        "node7.right = node8\n",
        "\n",
        "print(evaluateExpressionTree(root))\n",
        "print(inorder(root))"
      ]
    },
    {
      "cell_type": "markdown",
      "metadata": {
        "id": "tu3n5ZdWAJl2"
      },
      "source": [
        "#### 3. Construct a binary expression tree\n",
        "\n",
        "- Use the evaluateExpressionTree method to get the result of the expression\n",
        "- Use the inorder method to traverse the tree  \n",
        "\n",
        "$$ ((2 + 5) / 3)- (3 + 8) $$"
      ]
    },
    {
      "cell_type": "code",
      "execution_count": 42,
      "metadata": {
        "id": "5GvZBxgtAJl3",
        "outputId": "8261e4ab-dce6-4914-db39-40fc8cb383e1",
        "colab": {
          "base_uri": "https://localhost:8080/"
        }
      },
      "outputs": [
        {
          "output_type": "stream",
          "name": "stdout",
          "text": [
            "-8.666666666666666\n",
            "2->+->5->/->3->-->3->+->8->None\n"
          ]
        }
      ],
      "source": [
        "# put your answer here\n",
        "\n",
        "root = Node(\"-\")\n",
        "node1 = Node(\"2\")\n",
        "node2 = Node(\"+\")\n",
        "node3 = Node(\"5\")\n",
        "node4 = Node(\"/\")\n",
        "node5 = Node(\"3\")\n",
        "node6 = Node(\"3\")\n",
        "node7 = Node(\"+\")\n",
        "node8 = Node(\"8\")\n",
        "\n",
        "root.left = node4\n",
        "root.right = node7\n",
        "node4.left = node2\n",
        "node4.right = node5\n",
        "node2.left = node1\n",
        "node2.right = node3\n",
        "node7.left = node6\n",
        "node7.right = node8\n",
        "\n",
        "print(evaluateExpressionTree(root))\n",
        "print(inorder(root))"
      ]
    }
  ],
  "metadata": {
    "kernelspec": {
      "display_name": "Python 3",
      "language": "python",
      "name": "python3"
    },
    "language_info": {
      "codemirror_mode": {
        "name": "ipython",
        "version": 3
      },
      "file_extension": ".py",
      "mimetype": "text/x-python",
      "name": "python",
      "nbconvert_exporter": "python",
      "pygments_lexer": "ipython3",
      "version": "3.11.4"
    },
    "orig_nbformat": 4,
    "colab": {
      "provenance": [],
      "include_colab_link": true
    }
  },
  "nbformat": 4,
  "nbformat_minor": 0
}