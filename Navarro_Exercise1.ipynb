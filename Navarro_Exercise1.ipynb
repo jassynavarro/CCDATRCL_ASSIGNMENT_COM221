{
  "cells": [
    {
      "cell_type": "markdown",
      "metadata": {
        "id": "view-in-github",
        "colab_type": "text"
      },
      "source": [
        "<a href=\"https://colab.research.google.com/github/jassynavarro/CCDATRCL_ASSIGNMENT_COM221/blob/main/Exercise1.ipynb\" target=\"_parent\"><img src=\"https://colab.research.google.com/assets/colab-badge.svg\" alt=\"Open In Colab\"/></a>"
      ]
    },
    {
      "cell_type": "markdown",
      "metadata": {
        "id": "h2vFiYhGzZOg"
      },
      "source": [
        "# Exercise 1"
      ]
    },
    {
      "cell_type": "markdown",
      "source": [
        "## Class Initialization"
      ],
      "metadata": {
        "id": "sRm6kPQozcaU"
      }
    },
    {
      "cell_type": "code",
      "execution_count": 1,
      "metadata": {
        "id": "b1u4Dt9mzZOi"
      },
      "outputs": [],
      "source": [
        "class Node:\n",
        "    def __init__(self, data):\n",
        "        self.data = data\n",
        "        self.next = None"
      ]
    },
    {
      "cell_type": "code",
      "execution_count": 2,
      "metadata": {
        "id": "tigvHSaHzZOj"
      },
      "outputs": [],
      "source": [
        "class LinkedList:\n",
        "\n",
        "    def __init__(self):\n",
        "        self.head = None\n",
        "\n",
        "    def traverse(self, node):\n",
        "        while node:\n",
        "            print(node.data, end=\" -> \")\n",
        "            node = node.next"
      ]
    },
    {
      "cell_type": "code",
      "execution_count": 3,
      "metadata": {
        "id": "LIkQBioVzZOk"
      },
      "outputs": [],
      "source": [
        "class DoublyLinkedList:\n",
        "\n",
        "    def __init__(self):\n",
        "        self.head = None\n",
        "\n",
        "    def traverse(self, node):\n",
        "        while node:\n",
        "            print(node.data, end=\" -> \")\n",
        "            node = node.next"
      ]
    },
    {
      "cell_type": "code",
      "execution_count": 4,
      "metadata": {
        "id": "zlxNT5EozZOl"
      },
      "outputs": [],
      "source": [
        "class CircularLinkedList:\n",
        "\n",
        "    def __init__(self):\n",
        "        self.head = None\n",
        "\n",
        "    def traverse(self, node):\n",
        "\n",
        "        head = node\n",
        "\n",
        "        while node:\n",
        "            print(node.data, end=\" -> \")\n",
        "            node = node.next\n",
        "\n",
        "            # Break to prevent infinite loop\n",
        "            if node == head:\n",
        "                break"
      ]
    },
    {
      "cell_type": "markdown",
      "metadata": {
        "id": "O68-Q1-bzZOl"
      },
      "source": [
        "#### 1. Create a Singly Linked list\n",
        "\n",
        "- Each node should contain your name and your seatmates\n",
        "- Create at least 5 nodes\n",
        "- Traverse all nodes"
      ]
    },
    {
      "cell_type": "code",
      "execution_count": null,
      "metadata": {
        "id": "pTcx_OuPzZOl"
      },
      "outputs": [],
      "source": [
        "linked_list = LinkedList()\n",
        "linked_list.head = Node(\"Iber\")\n",
        "node_2 = Node(\"Robbie\")\n",
        "node_3 = Node(\"Dhan\")\n",
        "node_4 = Node(\"Angelo\")\n",
        "node_5 = Node(\"Jassy\")\n",
        "node_6 = Node(\"Jessy\")\n",
        "node_7 = Node(\"Boybie\")\n",
        "node_8 = Node(\"Kalli\")\n",
        "\n",
        "linked_list.head.next = node_2\n",
        "node_2.next = node_3\n",
        "node_3.next = node_4\n",
        "node_4.next = node_5\n",
        "node_5.next = node_6\n",
        "node_6.next = node_7\n",
        "node_7.next = node_8\n",
        "node_8.next = None\n",
        "\n",
        "linked_list.traverse(linked_list.head)"
      ]
    },
    {
      "cell_type": "markdown",
      "metadata": {
        "id": "IFgwbdw_zZOm"
      },
      "source": [
        "#### 2. Create a Doubly Linked list\n",
        "\n",
        "- Each node should contain your name and your seatmates\n",
        "- Create at least 5 nodes\n",
        "- Traverse all nodes"
      ]
    },
    {
      "cell_type": "code",
      "execution_count": null,
      "metadata": {
        "id": "8kQD2A_QzZOm"
      },
      "outputs": [],
      "source": [
        "doubly_linked_list = DoublyLinkedList()\n",
        "doubly_linked_list.head = Node(\"Iber\")\n",
        "node_2 = Node(\"Robbie\")\n",
        "node_3 = Node(\"Dhan\")\n",
        "node_4 = Node(\"Angelo\")\n",
        "node_5 = Node(\"Jassy\")\n",
        "node_6 = Node(\"Jessy\")\n",
        "node_7 = Node(\"Boybie\")\n",
        "node_8 = Node(\"Kalli\")\n",
        "\n",
        "doubly_linked_list.head.prev = None\n",
        "doubly_linked_list.head.next = node_2\n",
        "\n",
        "node_2.prev = doubly_linked_list.head\n",
        "node_2.next = node_3\n",
        "\n",
        "node_3.prev = node_2\n",
        "node_3.next = node_4\n",
        "\n",
        "node_4.prev = node_3\n",
        "node_4.next = node_5\n",
        "\n",
        "node_5.prev = node_4\n",
        "node_5.next = node_6\n",
        "\n",
        "node_6.prev = node_5\n",
        "node_6.next = node_7\n",
        "\n",
        "node_7.prev = node_6\n",
        "node_7.next = node_8\n",
        "\n",
        "node_8.prev = node_7\n",
        "node_8.next = None\n",
        "\n",
        "doubly_linked_list.traverse(doubly_linked_list.head)"
      ]
    },
    {
      "cell_type": "markdown",
      "metadata": {
        "id": "rtApbsCjzZOm"
      },
      "source": [
        "#### 2. Create a Circular Linked list\n",
        "\n",
        "- Each node should contain your name and your seatmates\n",
        "- Create at least 5 nodes\n",
        "- Traverse all nodes"
      ]
    },
    {
      "cell_type": "code",
      "execution_count": null,
      "metadata": {
        "id": "Gp1Oiq0jzZOn"
      },
      "outputs": [],
      "source": [
        "circular_linked_list = CircularLinkedList()\n",
        "circular_linked_list.head = Node(\"Iber\")\n",
        "node_2 = Node(\"Robbie\")\n",
        "node_3 = Node(\"Dhan\")\n",
        "node_4 = Node(\"Angelo\")\n",
        "node_5 = Node(\"Jassy\")\n",
        "node_6 = Node(\"Jessy\")\n",
        "node_7 = Node(\"Boybie\")\n",
        "node_8 = Node(\"Kalli\")\n",
        "\n",
        "circular_linked_list.head.next = node_2\n",
        "node_2.next = node_3\n",
        "node_3.next = node_4\n",
        "node_4.next = node_5\n",
        "node_5.next = node_6\n",
        "node_6.next = node_7\n",
        "node_7.next = node_8\n",
        "node_8.next = circular_linked_list.head\n",
        "\n",
        "circular_linked_list.traverse(circular_linked_list.head)"
      ]
    }
  ],
  "metadata": {
    "kernelspec": {
      "display_name": "Python 3",
      "language": "python",
      "name": "python3"
    },
    "language_info": {
      "name": "python",
      "version": "3.11.4"
    },
    "orig_nbformat": 4,
    "colab": {
      "provenance": [],
      "include_colab_link": true
    }
  },
  "nbformat": 4,
  "nbformat_minor": 0
}
