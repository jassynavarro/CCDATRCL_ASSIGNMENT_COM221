{
  "cells": [
    {
      "cell_type": "markdown",
      "metadata": {
        "id": "view-in-github",
        "colab_type": "text"
      },
      "source": [
        "<a href=\"https://colab.research.google.com/github/jassynavarro/CCDATRCL_ASSIGNMENT_COM221/blob/main/Navarro_Exercise5.ipynb\" target=\"_parent\"><img src=\"https://colab.research.google.com/assets/colab-badge.svg\" alt=\"Open In Colab\"/></a>"
      ]
    },
    {
      "cell_type": "markdown",
      "metadata": {
        "id": "Pud_LCW_BrSX"
      },
      "source": [
        "# Exercise 5"
      ]
    },
    {
      "cell_type": "markdown",
      "metadata": {
        "id": "cW-XL3VqBrSn"
      },
      "source": [
        "#### 1. Create a dictionary of your 10 favorite songs."
      ]
    },
    {
      "cell_type": "markdown",
      "metadata": {
        "id": "U-SzaH-kBrSp"
      },
      "source": [
        "Example:\n",
        "\n",
        "|KEY|VALUE|\n",
        "|---|---|\n",
        "|001|My Love|\n",
        "|002|Like a rose|"
      ]
    },
    {
      "cell_type": "code",
      "execution_count": 15,
      "metadata": {
        "id": "KtjgQGZCBrSs",
        "outputId": "cc6230fa-4d16-4669-dffa-634390979381",
        "colab": {
          "base_uri": "https://localhost:8080/"
        }
      },
      "outputs": [
        {
          "output_type": "execute_result",
          "data": {
            "text/plain": [
              "{'001': 'The mission',\n",
              " '002': 'Happiness',\n",
              " '003': 'In my weakness',\n",
              " '004': 'Typa Girl',\n",
              " '005': 'Pop',\n",
              " '006': 'Lihim',\n",
              " '007': 'Paraluman',\n",
              " '008': 'If only',\n",
              " '009': 'Someone you loved',\n",
              " '010': 'Stuck on you'}"
            ]
          },
          "metadata": {},
          "execution_count": 15
        }
      ],
      "source": [
        "# put your answer here\n",
        "\n",
        "mydictionary = {\n",
        "    \"001\": \"The mission\",\n",
        "    \"002\": \"Happiness\",\n",
        "    \"003\": \"In my weakness\",\n",
        "    \"004\": \"Typa Girl\",\n",
        "    \"005\": \"Pop\",\n",
        "    \"006\": \"Lihim\",\n",
        "    \"007\": \"Paraluman\",\n",
        "    \"008\": \"If only\",\n",
        "    \"009\": \"Someone you loved\",\n",
        "    \"010\": \"Stuck on you\"\n",
        "}\n",
        "mydictionary"
      ]
    },
    {
      "cell_type": "markdown",
      "metadata": {
        "id": "JJ-1k0xkBrSv"
      },
      "source": [
        "#### 2. Loop through the dictionary by its **key** and **value**"
      ]
    },
    {
      "cell_type": "code",
      "execution_count": 16,
      "metadata": {
        "id": "tY3PMo9rBrSw",
        "outputId": "236c1b41-feb0-40dc-fbb5-57563f5e963f",
        "colab": {
          "base_uri": "https://localhost:8080/"
        }
      },
      "outputs": [
        {
          "output_type": "stream",
          "name": "stdout",
          "text": [
            "001 The mission\n",
            "002 Happiness\n",
            "003 In my weakness\n",
            "004 Typa Girl\n",
            "005 Pop\n",
            "006 Lihim\n",
            "007 Paraluman\n",
            "008 If only\n",
            "009 Someone you loved\n",
            "010 Stuck on you\n"
          ]
        }
      ],
      "source": [
        "# put your answer here\n",
        "\n",
        "for x, y in mydictionary.items():\n",
        "  print(x, y)"
      ]
    },
    {
      "cell_type": "markdown",
      "metadata": {
        "id": "ch0tZ1dbBrSy"
      },
      "source": [
        "#### 3. Add one additional song"
      ]
    },
    {
      "cell_type": "code",
      "execution_count": 17,
      "metadata": {
        "id": "-JYhSAuJBrSz",
        "outputId": "715e516c-7271-4270-a655-2927f80d7770",
        "colab": {
          "base_uri": "https://localhost:8080/"
        }
      },
      "outputs": [
        {
          "output_type": "execute_result",
          "data": {
            "text/plain": [
              "{'001': 'The mission',\n",
              " '002': 'Happiness',\n",
              " '003': 'In my weakness',\n",
              " '004': 'Typa Girl',\n",
              " '005': 'Pop',\n",
              " '006': 'Lihim',\n",
              " '007': 'Paraluman',\n",
              " '008': 'If only',\n",
              " '009': 'Someone you loved',\n",
              " '010': 'Stuck on you',\n",
              " '011': 'What is love'}"
            ]
          },
          "metadata": {},
          "execution_count": 17
        }
      ],
      "source": [
        "# put your answer here\n",
        "\n",
        "mydictionary[\"011\"] = \"What is love\"\n",
        "mydictionary"
      ]
    },
    {
      "cell_type": "markdown",
      "metadata": {
        "id": "dEggKmvDBrS0"
      },
      "source": [
        "#### 4. Remove one song"
      ]
    },
    {
      "cell_type": "code",
      "execution_count": 18,
      "metadata": {
        "id": "c6k7DK0TBrS2",
        "outputId": "2df76c22-bc8b-4e0d-e3fb-47ea4f74bae1",
        "colab": {
          "base_uri": "https://localhost:8080/"
        }
      },
      "outputs": [
        {
          "output_type": "execute_result",
          "data": {
            "text/plain": [
              "{'001': 'The mission',\n",
              " '002': 'Happiness',\n",
              " '003': 'In my weakness',\n",
              " '004': 'Typa Girl',\n",
              " '005': 'Pop',\n",
              " '006': 'Lihim',\n",
              " '008': 'If only',\n",
              " '009': 'Someone you loved',\n",
              " '010': 'Stuck on you',\n",
              " '011': 'What is love'}"
            ]
          },
          "metadata": {},
          "execution_count": 18
        }
      ],
      "source": [
        "# put your answer here\n",
        "\n",
        "mydictionary.pop(\"007\")\n",
        "mydictionary"
      ]
    },
    {
      "cell_type": "markdown",
      "metadata": {
        "id": "Dm-SbuMMBrS3"
      },
      "source": [
        "#### 5. Create a nested dictionary of your 10 favorite songs with 5 genres. Display all of the items of the nested dictionary\n",
        "\n",
        "- Each nested dictionary's key should be the genre of the song\n",
        "- Put each song in their respective genre"
      ]
    },
    {
      "cell_type": "markdown",
      "metadata": {
        "id": "zLmzUIiXBrS4"
      },
      "source": [
        "Example:\n",
        "\n",
        "\n",
        "|KEY|VALUE|\n",
        "|---|---|\n",
        "|Pop|{001, Baby}|\n",
        "|Rock|{001, Enter Sandman}|"
      ]
    },
    {
      "cell_type": "code",
      "execution_count": 19,
      "metadata": {
        "id": "j1Awnah-BrS4",
        "outputId": "515cca7d-c64f-4de7-b031-da9bccadf834",
        "colab": {
          "base_uri": "https://localhost:8080/"
        }
      },
      "outputs": [
        {
          "output_type": "execute_result",
          "data": {
            "text/plain": [
              "{'K-Pop': {'001': 'Typa Girl', '002': 'Pop'},\n",
              " 'Christian': {'001': 'Indescribable', '002': 'Lily of the valley'},\n",
              " 'OPM': {'001': 'Paraluman', '002': 'Lihim'},\n",
              " 'Reggae': {'001': 'Someone you loved', '002': 'Stuck on you'},\n",
              " 'Pop': {'001': 'If only', '002': 'Happiness'}}"
            ]
          },
          "metadata": {},
          "execution_count": 19
        }
      ],
      "source": [
        "# put your answer here\n",
        "\n",
        "mydictionary = {\n",
        "    \"K-Pop\": {\n",
        "        \"001\": \"Typa Girl\",\n",
        "        \"002\": \"Pop\"\n",
        "    },\n",
        "    \"Christian\": {\n",
        "        \"001\": \"Indescribable\",\n",
        "        \"002\": \"Lily of the valley\",\n",
        "    },\n",
        "    \"OPM\": {\n",
        "        \"001\": \"Paraluman\",\n",
        "        \"002\": \"Lihim\"\n",
        "    },\n",
        "    \"Reggae\": {\n",
        "        \"001\": \"Someone you loved\",\n",
        "        \"002\": \"Stuck on you\"\n",
        "    },\n",
        "    \"Pop\": {\n",
        "        \"001\": \"If only\",\n",
        "        \"002\": \"Happiness\"\n",
        "    }\n",
        "}\n",
        "\n",
        "mydictionary\n"
      ]
    },
    {
      "cell_type": "markdown",
      "metadata": {
        "id": "jECeWsaEBrS5"
      },
      "source": [
        "#### 6. Print the first song of the first genre"
      ]
    },
    {
      "cell_type": "code",
      "execution_count": 20,
      "metadata": {
        "id": "vbrohMyhBrS6",
        "outputId": "81122711-1d9b-4570-c201-a5489e0aadc0",
        "colab": {
          "base_uri": "https://localhost:8080/"
        }
      },
      "outputs": [
        {
          "output_type": "stream",
          "name": "stdout",
          "text": [
            "Typa Girl\n"
          ]
        }
      ],
      "source": [
        "# put your answer here\n",
        "\n",
        "print(mydictionary[\"K-Pop\"][\"001\"])"
      ]
    },
    {
      "cell_type": "markdown",
      "metadata": {
        "id": "3gRkrkf6BrS7"
      },
      "source": [
        "#### 7. Print the first song of the last genre"
      ]
    },
    {
      "cell_type": "code",
      "execution_count": 21,
      "metadata": {
        "id": "S2DRwhZxBrS7",
        "outputId": "00fbc2dc-7a91-4be1-92b1-0c98ca4e41d6",
        "colab": {
          "base_uri": "https://localhost:8080/"
        }
      },
      "outputs": [
        {
          "output_type": "stream",
          "name": "stdout",
          "text": [
            "If only\n"
          ]
        }
      ],
      "source": [
        "# put your answer here\n",
        "\n",
        "print(mydictionary[\"Pop\"][\"001\"])"
      ]
    }
  ],
  "metadata": {
    "kernelspec": {
      "display_name": "Python 3",
      "language": "python",
      "name": "python3"
    },
    "language_info": {
      "codemirror_mode": {
        "name": "ipython",
        "version": 3
      },
      "file_extension": ".py",
      "mimetype": "text/x-python",
      "name": "python",
      "nbconvert_exporter": "python",
      "pygments_lexer": "ipython3",
      "version": "3.11.4"
    },
    "orig_nbformat": 4,
    "colab": {
      "provenance": [],
      "include_colab_link": true
    }
  },
  "nbformat": 4,
  "nbformat_minor": 0
}